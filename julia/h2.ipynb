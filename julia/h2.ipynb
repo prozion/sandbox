{
 "cells": [
  {
   "cell_type": "code",
   "execution_count": 1,
   "id": "cad17a65-7f96-4e47-ad07-aeda031fed91",
   "metadata": {},
   "outputs": [],
   "source": [
    "using CSV, DataFrames"
   ]
  },
  {
   "cell_type": "code",
   "execution_count": 6,
   "id": "0bbaa19f-cabe-47a5-b7ee-02659a7750ca",
   "metadata": {},
   "outputs": [
    {
     "data": {
      "text/html": [
       "<div class=\"data-frame\"><p>5 rows × 13 columns (omitted printing of 5 columns)</p><table class=\"data-frame\"><thead><tr><th></th><th>unit</th><th>race</th><th>level</th><th>attack</th><th>defence</th><th>hit points</th><th>damage min</th><th>damage max</th></tr><tr><th></th><th title=\"String31\">String31</th><th title=\"Union{Missing, String15}\">String15?</th><th title=\"Union{Missing, Int64}\">Int64?</th><th title=\"Union{Missing, Int64}\">Int64?</th><th title=\"Union{Missing, Int64}\">Int64?</th><th title=\"Union{Missing, Int64}\">Int64?</th><th title=\"Union{Missing, Int64}\">Int64?</th><th title=\"Union{Missing, Int64}\">Int64?</th></tr></thead><tbody><tr><th>1</th><td>Crusader</td><td>Knight</td><td>6</td><td>11</td><td>12</td><td>65</td><td>10</td><td>20</td></tr><tr><th>2</th><td>Ogre</td><td>Barbarian</td><td>4</td><td>9</td><td>5</td><td>40</td><td>4</td><td>6</td></tr><tr><th>3</th><td>Wolf</td><td>Barbarian</td><td>3</td><td>6</td><td>2</td><td>20</td><td>3</td><td>5</td></tr><tr><th>4</th><td>Iron_Golem</td><td>Wizard</td><td>3</td><td><em>missing</em></td><td><em>missing</em></td><td><em>missing</em></td><td><em>missing</em></td><td><em>missing</em></td></tr><tr><th>5</th><td>Boar</td><td>Wizard</td><td>2</td><td><em>missing</em></td><td><em>missing</em></td><td><em>missing</em></td><td><em>missing</em></td><td><em>missing</em></td></tr></tbody></table></div>"
      ],
      "text/latex": [
       "\\begin{tabular}{r|ccccccccc}\n",
       "\t& unit & race & level & attack & defence & hit points & damage min & damage max & \\\\\n",
       "\t\\hline\n",
       "\t& String31 & String15? & Int64? & Int64? & Int64? & Int64? & Int64? & Int64? & \\\\\n",
       "\t\\hline\n",
       "\t1 & Crusader & Knight & 6 & 11 & 12 & 65 & 10 & 20 & $\\dots$ \\\\\n",
       "\t2 & Ogre & Barbarian & 4 & 9 & 5 & 40 & 4 & 6 & $\\dots$ \\\\\n",
       "\t3 & Wolf & Barbarian & 3 & 6 & 2 & 20 & 3 & 5 & $\\dots$ \\\\\n",
       "\t4 & Iron\\_Golem & Wizard & 3 & \\emph{missing} & \\emph{missing} & \\emph{missing} & \\emph{missing} & \\emph{missing} & $\\dots$ \\\\\n",
       "\t5 & Boar & Wizard & 2 & \\emph{missing} & \\emph{missing} & \\emph{missing} & \\emph{missing} & \\emph{missing} & $\\dots$ \\\\\n",
       "\\end{tabular}\n"
      ],
      "text/plain": [
       "\u001b[1m5×13 DataFrame\u001b[0m\n",
       "\u001b[1m Row \u001b[0m│\u001b[1m unit       \u001b[0m\u001b[1m race      \u001b[0m\u001b[1m level  \u001b[0m\u001b[1m attack  \u001b[0m\u001b[1m defence \u001b[0m\u001b[1m hit points \u001b[0m\u001b[1m damage min\u001b[0m ⋯\n",
       "\u001b[1m     \u001b[0m│\u001b[90m String31   \u001b[0m\u001b[90m String15? \u001b[0m\u001b[90m Int64? \u001b[0m\u001b[90m Int64?  \u001b[0m\u001b[90m Int64?  \u001b[0m\u001b[90m Int64?     \u001b[0m\u001b[90m Int64?    \u001b[0m ⋯\n",
       "─────┼──────────────────────────────────────────────────────────────────────────\n",
       "   1 │ Crusader    Knight          6       11       12          65          10 ⋯\n",
       "   2 │ Ogre        Barbarian       4        9        5          40           4\n",
       "   3 │ Wolf        Barbarian       3        6        2          20           3\n",
       "   4 │ Iron_Golem  Wizard          3 \u001b[90m missing \u001b[0m\u001b[90m missing \u001b[0m\u001b[90m    missing \u001b[0m\u001b[90m    missing\u001b[0m\n",
       "   5 │ Boar        Wizard          2 \u001b[90m missing \u001b[0m\u001b[90m missing \u001b[0m\u001b[90m    missing \u001b[0m\u001b[90m    missing\u001b[0m ⋯\n",
       "\u001b[36m                                                               6 columns omitted\u001b[0m"
      ]
     },
     "execution_count": 6,
     "metadata": {},
     "output_type": "execute_result"
    }
   ],
   "source": [
    "df = CSV.read(\"h2.csv\", DataFrame);\n",
    "first(df, 5)"
   ]
  }
 ],
 "metadata": {
  "kernelspec": {
   "display_name": "Julia 1.8.1",
   "language": "julia",
   "name": "julia-1.8"
  },
  "language_info": {
   "file_extension": ".jl",
   "mimetype": "application/julia",
   "name": "julia",
   "version": "1.8.1"
  }
 },
 "nbformat": 4,
 "nbformat_minor": 5
}
