{
 "cells": [
  {
   "cell_type": "code",
   "execution_count": 1,
   "id": "488f34a8-9d6d-46f0-88d2-54a082b4c82e",
   "metadata": {},
   "outputs": [
    {
     "data": {
      "text/latex": [
       "Unrecognized magic \\texttt{\\%load\\_ext}.\n",
       "\n",
       "Julia does not use the IPython \\texttt{\\%magic} syntax.   To interact with the IJulia kernel, use \\texttt{IJulia.somefunction(...)}, for example.  Julia macros, string macros, and functions can be used to accomplish most of the other functionalities of IPython magics.\n",
       "\n"
      ],
      "text/markdown": [
       "Unrecognized magic `%load_ext`.\n",
       "\n",
       "Julia does not use the IPython `%magic` syntax.   To interact with the IJulia kernel, use `IJulia.somefunction(...)`, for example.  Julia macros, string macros, and functions can be used to accomplish most of the other functionalities of IPython magics.\n"
      ],
      "text/plain": [
       "  Unrecognized magic \u001b[36m%load_ext\u001b[39m.\n",
       "\n",
       "  Julia does not use the IPython \u001b[36m%magic\u001b[39m syntax. To interact with the IJulia\n",
       "  kernel, use \u001b[36mIJulia.somefunction(...)\u001b[39m, for example. Julia macros, string\n",
       "  macros, and functions can be used to accomplish most of the other\n",
       "  functionalities of IPython magics."
      ]
     },
     "metadata": {},
     "output_type": "display_data"
    }
   ],
   "source": [
    "%load_ext jupyter-rdfify"
   ]
  },
  {
   "cell_type": "code",
   "execution_count": null,
   "id": "4c247fd9-0ffd-40f9-a1b2-d8e59e49fa62",
   "metadata": {},
   "outputs": [],
   "source": []
  }
 ],
 "metadata": {
  "kernelspec": {
   "display_name": "Python 3 (ipykernel)",
   "language": "python",
   "name": "python3"
  },
  "language_info": {
   "codemirror_mode": {
    "name": "ipython",
    "version": 3
   },
   "file_extension": ".py",
   "mimetype": "text/x-python",
   "name": "python",
   "nbconvert_exporter": "python",
   "pygments_lexer": "ipython3",
   "version": "3.10.4"
  }
 },
 "nbformat": 4,
 "nbformat_minor": 5
}
